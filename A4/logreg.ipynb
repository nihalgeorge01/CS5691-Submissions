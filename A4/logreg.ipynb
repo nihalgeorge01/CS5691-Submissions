{
 "cells": [
  {
   "cell_type": "code",
   "execution_count": null,
   "metadata": {},
   "outputs": [],
   "source": [
    "# TODO Logistic Regression\n",
    "# \n",
    "# Load features from file, then apply model\n",
    "# Try diff params, give accuracies, misclassification rates for each dataset\n",
    "# Plot confusion matrix, ROC, DET\n",
    "# Do not use inbuilt library for Logistic Regression\n",
    "# Do on three forms of data -- normal, after PCA, after LDA"
   ]
  },
  {
   "cell_type": "code",
   "execution_count": null,
   "metadata": {},
   "outputs": [],
   "source": [
    "# Take command line args\n",
    "# feature type - normal, LDA, PCA\n",
    "# dataset - Image, Synthetic, IsolatedDigits, HandwrittenCharacters"
   ]
  }
 ],
 "metadata": {
  "language_info": {
   "name": "python"
  },
  "orig_nbformat": 4
 },
 "nbformat": 4,
 "nbformat_minor": 2
}
