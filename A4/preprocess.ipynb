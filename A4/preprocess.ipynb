{
 "cells": [
  {
   "cell_type": "code",
   "execution_count": null,
   "metadata": {},
   "outputs": [],
   "source": [
    "# TODO Preprocess, store feature dict etc in some file like pickle\n",
    "# Do normal, after LDA, after PCA\n",
    "#\n",
    "# Datasets \n",
    "# 1. Images (Same as GMM)\n",
    "# 2. Synthetic (Same as GMM)\n",
    "# 3. Isolated Digits (Same as DTW)\n",
    "# 4. Handwritten Characters (Same as DTW)"
   ]
  },
  {
   "cell_type": "code",
   "execution_count": null,
   "metadata": {},
   "outputs": [],
   "source": [
    "# Take command line args\n",
    "# feature type - normal, LDA, PCA\n",
    "# dataset - Image, Synthetic, IsolatedDigits, HandwrittenCharacters"
   ]
  }
 ],
 "metadata": {
  "language_info": {
   "name": "python"
  },
  "orig_nbformat": 4
 },
 "nbformat": 4,
 "nbformat_minor": 2
}
