{
 "cells": [
  {
   "cell_type": "code",
   "execution_count": 1,
   "metadata": {},
   "outputs": [],
   "source": [
    "# TODO Support Vector Machines\n",
    "# \n",
    "# Load features from file, then apply model\n",
    "# Try diff params, give accuracies, misclassification rates for each dataset\n",
    "# Plot confusion matrix, ROC, DET\n",
    "# Inbuilt libraries ALLOWED\n",
    "# Do on three forms of data -- normal, after PCA, after LDA"
   ]
  },
  {
   "cell_type": "code",
   "execution_count": 2,
   "metadata": {},
   "outputs": [],
   "source": [
    "import pickle\n",
    "import numpy as np\n",
    "with open(\"Data/Pickles/char_lda_train.pkl\",\"rb\") as f:\n",
    "    train_feats = pickle.load(f)"
   ]
  },
  {
   "cell_type": "code",
   "execution_count": 4,
   "metadata": {},
   "outputs": [
    {
     "name": "stdout",
     "output_type": "stream",
     "text": [
      "['a', 'ai', 'bA', 'chA', 'dA']\n",
      "['1', '10', '11', '12', '13', '14', '15', '16', '17', '18', '19', '2', '20', '21', '22', '23', '24', '25', '26', '27', '28', '29', '3', '30', '31', '32', '33', '34', '35', '36', '37', '38', '39', '4', '40', '41', '42', '43', '44', '45', '46', '47', '48', '49', '5', '50', '51', '52', '53', '54', '55', '56', '57', '58', '59', '6', '60', '61', '62', '63', '64', '65', '66', '67', '68', '69', '7', '8', '9']\n",
      "[[-0.78532266]\n",
      " [ 0.        ]\n",
      " [-0.46367781]\n",
      " [ 0.        ]\n",
      " [ 0.        ]\n",
      " [ 0.        ]\n",
      " [ 0.46367781]\n",
      " [ 0.78532266]\n",
      " [ 0.98280534]\n",
      " [ 0.78539816]\n",
      " [ 1.57079633]\n",
      " [ 1.57079633]\n",
      " [ 3.14159265]\n",
      " [ 2.67797525]\n",
      " [ 3.14159265]\n",
      " [ 3.14159265]\n",
      " [ 3.14159265]\n",
      " [-1.57079633]\n",
      " [-2.67791484]\n",
      " [-2.35626999]\n",
      " [-2.03441374]\n",
      " [-2.35619449]\n",
      " [-1.57079633]\n",
      " [-2.35611899]\n",
      " [-1.57079633]\n",
      " [-1.10717892]\n",
      " [-1.57079633]\n",
      " [-0.78539816]\n",
      " [-0.78539816]\n",
      " [-0.78547366]\n",
      " [-0.32172035]\n",
      " [ 0.        ]\n",
      " [ 0.        ]\n",
      " [-0.24499643]\n",
      " [ 0.        ]\n",
      " [ 0.        ]\n",
      " [ 0.        ]\n",
      " [ 0.        ]\n",
      " [ 0.24499643]\n",
      " [ 0.32172035]\n",
      " [ 0.24499643]\n",
      " [ 0.58801422]\n",
      " [ 0.46367781]\n",
      " [ 0.98278211]\n",
      " [ 0.78539816]\n",
      " [ 1.10717892]\n",
      " [ 1.57079633]\n",
      " [ 1.57079633]\n",
      " [ 1.57079633]\n",
      " [ 1.57079633]\n",
      " [ 3.14159265]\n",
      " [ 2.35626999]\n",
      " [ 3.14159265]\n",
      " [ 3.14159265]\n",
      " [ 3.14159265]\n",
      " [-2.67797525]\n",
      " [-2.35619449]\n",
      " [-2.35619449]\n",
      " [-1.57079633]\n",
      " [-1.57079633]\n",
      " [-2.35619449]\n",
      " [-1.57079633]\n",
      " [-1.57079633]\n",
      " [-2.35619449]\n",
      " [-2.35619449]\n",
      " [ 3.14159265]\n",
      " [-2.67797525]\n",
      " [-2.35619449]\n",
      " [ 3.14159265]\n",
      " [ 3.14159265]\n",
      " [-2.35626999]\n",
      " [ 3.14159265]\n",
      " [ 3.14159265]\n",
      " [ 3.14159265]\n",
      " [ 3.14159265]\n",
      " [ 3.14159265]\n",
      " [ 3.14159265]\n",
      " [ 3.14159265]]\n"
     ]
    }
   ],
   "source": [
    "classes = sorted(list(train_feats.keys()))\n",
    "cl0_fn = sorted(list(train_feats[classes[0]].keys()))\n",
    "print(classes)\n",
    "print(cl0_fn)\n",
    "print(train_feats[classes[0]][cl0_fn[0]])"
   ]
  },
  {
   "cell_type": "code",
   "execution_count": 1,
   "metadata": {},
   "outputs": [],
   "source": [
    "import sklearn.svm as svm\n",
    "from sklearn.pipeline import make_pipeline\n",
    "from sklearn.preprocessing import StandardScaler\n",
    "pipe = make_pipeline(StandardScaler(), svm.SVC())"
   ]
  },
  {
   "cell_type": "code",
   "execution_count": 11,
   "metadata": {},
   "outputs": [
    {
     "name": "stdout",
     "output_type": "stream",
     "text": [
      "['a' 'a' 'a' 'a' 'a' 'a' 'a' 'a' 'a' 'a' 'a' 'a' 'a' 'a' 'a' 'a' 'a' 'a'\n",
      " 'a' 'a' 'a' 'a' 'a' 'a' 'a' 'a' 'a' 'a' 'a' 'a' 'a' 'a' 'a' 'a' 'a' 'a'\n",
      " 'a' 'a' 'a' 'a' 'a' 'a' 'a' 'a' 'a' 'a' 'a' 'a' 'a' 'a' 'a' 'a' 'a' 'a'\n",
      " 'a' 'a' 'a' 'a' 'a' 'a' 'a' 'a' 'a' 'a' 'a' 'a' 'a' 'a' 'a' 'ai' 'ai'\n",
      " 'ai' 'ai' 'ai' 'ai' 'ai' 'ai' 'ai' 'ai' 'ai' 'ai' 'ai' 'ai' 'ai' 'ai'\n",
      " 'ai' 'ai' 'ai' 'ai' 'ai' 'ai' 'ai' 'ai' 'ai' 'ai' 'ai' 'ai' 'ai' 'ai'\n",
      " 'ai' 'ai' 'ai' 'ai' 'ai' 'ai' 'ai' 'ai' 'ai' 'ai' 'ai' 'ai' 'ai' 'ai'\n",
      " 'ai' 'ai' 'ai' 'ai' 'ai' 'ai' 'ai' 'ai' 'ai' 'ai' 'ai' 'ai' 'ai' 'ai'\n",
      " 'ai' 'ai' 'ai' 'ai' 'ai' 'ai' 'ai' 'ai' 'ai' 'ai' 'ai' 'ai' 'bA' 'bA'\n",
      " 'bA' 'bA' 'bA' 'bA' 'bA' 'bA' 'bA' 'bA' 'bA' 'bA' 'bA' 'bA' 'bA' 'bA'\n",
      " 'bA' 'bA' 'bA' 'bA' 'bA' 'bA' 'bA' 'bA' 'bA' 'bA' 'bA' 'bA' 'bA' 'bA'\n",
      " 'bA' 'bA' 'bA' 'bA' 'bA' 'bA' 'bA' 'bA' 'bA' 'bA' 'bA' 'bA' 'bA' 'bA'\n",
      " 'bA' 'bA' 'bA' 'bA' 'bA' 'bA' 'bA' 'bA' 'bA' 'bA' 'bA' 'bA' 'bA' 'bA'\n",
      " 'bA' 'bA' 'bA' 'bA' 'bA' 'bA' 'bA' 'bA' 'bA' 'chA' 'chA' 'chA' 'chA'\n",
      " 'chA' 'chA' 'chA' 'chA' 'chA' 'chA' 'chA' 'chA' 'chA' 'chA' 'chA' 'chA'\n",
      " 'chA' 'chA' 'chA' 'chA' 'chA' 'chA' 'chA' 'chA' 'chA' 'chA' 'chA' 'chA'\n",
      " 'chA' 'chA' 'chA' 'chA' 'chA' 'chA' 'chA' 'chA' 'chA' 'chA' 'chA' 'chA'\n",
      " 'chA' 'chA' 'chA' 'chA' 'chA' 'chA' 'chA' 'chA' 'chA' 'chA' 'chA' 'chA'\n",
      " 'chA' 'chA' 'chA' 'chA' 'chA' 'chA' 'chA' 'chA' 'chA' 'chA' 'chA' 'chA'\n",
      " 'chA' 'chA' 'chA' 'chA' 'chA' 'chA' 'dA' 'dA' 'dA' 'dA' 'dA' 'dA' 'dA'\n",
      " 'dA' 'dA' 'dA' 'dA' 'dA' 'dA' 'dA' 'dA' 'dA' 'dA' 'dA' 'dA' 'dA' 'dA'\n",
      " 'dA' 'dA' 'dA' 'dA' 'dA' 'dA' 'dA' 'dA' 'dA' 'dA' 'dA' 'dA' 'dA' 'dA'\n",
      " 'dA' 'dA' 'dA' 'dA' 'dA' 'dA' 'dA' 'dA' 'dA' 'dA' 'dA' 'dA' 'dA' 'dA'\n",
      " 'dA' 'dA' 'dA' 'dA' 'dA' 'dA' 'dA' 'dA' 'dA' 'dA' 'dA' 'dA' 'dA' 'dA'\n",
      " 'dA' 'dA' 'dA' 'dA' 'dA' 'dA']\n"
     ]
    }
   ],
   "source": [
    "X = np.array(sum([[cl]*len(list(train_feats[cl].keys())) for cl in classes],[]))\n",
    "Y = []\n",
    "for i in :\n",
    "    \n",
    "print(X)\n",
    "#pipe.fit(X,y)"
   ]
  },
  {
   "cell_type": "code",
   "execution_count": null,
   "metadata": {},
   "outputs": [],
   "source": [
    "# Take command line args\n",
    "# feature type - normal, LDA, PCA\n",
    "# dataset - Image, Synthetic, IsolatedDigits, HandwrittenCharacters"
   ]
  }
 ],
 "metadata": {
  "interpreter": {
   "hash": "ef9b7432826c696ce20e03f18746ba792f5b12abe17d61ecd8dfe6645e9f1429"
  },
  "kernelspec": {
   "display_name": "Python 3.8.12 ('cs5691_prml')",
   "language": "python",
   "name": "python3"
  },
  "language_info": {
   "codemirror_mode": {
    "name": "ipython",
    "version": 3
   },
   "file_extension": ".py",
   "mimetype": "text/x-python",
   "name": "python",
   "nbconvert_exporter": "python",
   "pygments_lexer": "ipython3",
   "version": "3.8.12"
  },
  "orig_nbformat": 4
 },
 "nbformat": 4,
 "nbformat_minor": 2
}
