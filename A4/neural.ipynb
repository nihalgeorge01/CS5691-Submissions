{
 "cells": [
  {
   "cell_type": "code",
   "execution_count": null,
   "metadata": {},
   "outputs": [],
   "source": [
    "# TODO Artificial Neural Network\n",
    "# \n",
    "# Load features from file, then apply model\n",
    "# Try diff params, give accuracies, misclassification rates for each dataset\n",
    "# Plot confusion matrix, ROC, DET\n",
    "# Inbuilt libraries ALLOWED\n",
    "# Do on three forms of data -- normal, after PCA, after LDA"
   ]
  },
  {
   "cell_type": "markdown",
   "metadata": {},
   "source": [
    "# Artificial Neural Networks on Synthetic Data"
   ]
  },
  {
   "cell_type": "code",
   "execution_count": 1,
   "metadata": {},
   "outputs": [],
   "source": [
    "# Importing of Important Packages\n",
    "import pickle\n",
    "import numpy as np\n",
    "import matplotlib.pyplot as plt\n",
    "import sklearn.svm as svm\n",
    "from sklearn.pipeline import make_pipeline\n",
    "from sklearn.preprocessing import StandardScaler"
   ]
  },
  {
   "cell_type": "code",
   "execution_count": null,
   "metadata": {},
   "outputs": [],
   "source": [
    "# Take command line args\n",
    "# feature type - normal, LDA, PCA\n",
    "# dataset - Image, Synthetic, IsolatedDigits, HandwrittenCharacters"
   ]
  }
 ],
 "metadata": {
  "interpreter": {
   "hash": "ef9b7432826c696ce20e03f18746ba792f5b12abe17d61ecd8dfe6645e9f1429"
  },
  "kernelspec": {
   "display_name": "Python 3.8.12 ('cs5691_prml')",
   "language": "python",
   "name": "python3"
  },
  "language_info": {
   "codemirror_mode": {
    "name": "ipython",
    "version": 3
   },
   "file_extension": ".py",
   "mimetype": "text/x-python",
   "name": "python",
   "nbconvert_exporter": "python",
   "pygments_lexer": "ipython3",
   "version": "3.8.12"
  },
  "orig_nbformat": 4
 },
 "nbformat": 4,
 "nbformat_minor": 2
}
