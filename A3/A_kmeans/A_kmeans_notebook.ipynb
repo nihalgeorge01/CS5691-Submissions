{
 "cells": [
  {
   "cell_type": "code",
   "execution_count": 1,
   "metadata": {},
   "outputs": [],
   "source": [
    "import numpy as np\n",
    "import matplotlib.pyplot as plt"
   ]
  },
  {
   "cell_type": "code",
   "execution_count": 2,
   "metadata": {},
   "outputs": [],
   "source": [
    "train_data = np.loadtxt(\"Synthetic/29/train.txt\",delimiter=\",\")"
   ]
  },
  {
   "cell_type": "code",
   "execution_count": 3,
   "metadata": {},
   "outputs": [],
   "source": [
    "train_data_classes = np.asarray([train_data[np.where(train_data[:,2]==i)] for i in [1,2]])"
   ]
  },
  {
   "cell_type": "code",
   "execution_count": 4,
   "metadata": {},
   "outputs": [
    {
     "data": {
      "image/png": "[encoded data removed]",
      "text/plain": [
       "<Figure size 432x288 with 1 Axes>"
      ]
     },
     "metadata": {
      "needs_background": "light"
     },
     "output_type": "display_data"
    }
   ],
   "source": [
    "plt.scatter(train_data_classes[0,:,0],train_data_classes[0,:,1])\n",
    "plt.scatter(train_data_classes[1,:,0],train_data_classes[1,:,1])\n",
    "plt.show()"
   ]
  },
  {
   "cell_type": "code",
   "execution_count": 14,
   "metadata": {},
   "outputs": [],
   "source": [
    "def k_means(data,k=15):\n",
    "    # reshape data for numpy broadcasting\n",
    "    data = np.reshape(data,[-1,1,data.shape[-1]])\n",
    "    # initialize k means with random means\n",
    "    kmeans = np.vstack([np.random.choice(data[:,0,i],k) for i in range(0,data.shape[-1])]).T\n",
    "    # reshape data for numpy broadcasting\n",
    "    kmeans = np.reshape(kmeans,[1,-1,kmeans.shape[-1]])\n",
    "    # calculate distances with some broadcasting magic\n",
    "    dists = np.sum((data - kmeans)**2,axis=2)\n",
    "    # initialize cluster assignments\n",
    "    \n",
    "    # choose n rows from a kxk identity matrix \n",
    "    # using an nx1 argmin matrix (ranging from 0 to k-1)\n",
    "    # to produce an nxk 1-hot encoded matrix\n",
    "    r_nk_old = np.eye(k)[np.argmin(dists,axis=1)]\n",
    "    r_nk_new = r_nk_old.copy()\n",
    "    c = 0\n",
    "    while True:\n",
    "        print(f\"Iteration {c}\")\n",
    "        c+=1\n",
    "        # move cluster assignments into old variable for comparison\n",
    "        r_nk_old = r_nk_new.copy()\n",
    "        # update means\n",
    "        if np.any(np.sum(r_nk_old,axis=0) == 0):\n",
    "            print(r_nk_old)\n",
    "            print(\"error, 0 sum encountered\")\n",
    "            break\n",
    "        kmeans = (r_nk_old.T @ np.squeeze(data))/np.reshape(np.sum(r_nk_old,axis=0),[-1,1])\n",
    "        # update new cluster assignments\n",
    "        dists = np.sum((data - kmeans)**2,axis=2)\n",
    "        r_nk_new = np.eye(k)[np.argmin(dists,axis=1)]\n",
    "        # test for convergence\n",
    "        if np.all(r_nk_old == r_nk_new):\n",
    "            break\n",
    "    return kmeans, r_nk_new"
   ]
  },
  {
   "cell_type": "code",
   "execution_count": 17,
   "metadata": {},
   "outputs": [
    {
     "name": "stdout",
     "output_type": "stream",
     "text": [
      "Iteration 0\n",
      "Iteration 1\n",
      "Iteration 2\n",
      "Iteration 3\n",
      "Iteration 4\n",
      "Iteration 5\n",
      "Iteration 6\n",
      "Iteration 7\n",
      "Iteration 8\n",
      "Iteration 9\n",
      "Iteration 10\n",
      "Iteration 11\n",
      "Iteration 12\n",
      "Iteration 13\n",
      "Iteration 14\n",
      "Iteration 15\n",
      "Iteration 16\n",
      "Iteration 17\n",
      "Iteration 18\n",
      "Iteration 19\n",
      "Iteration 20\n",
      "Iteration 21\n",
      "Iteration 22\n",
      "Iteration 23\n",
      "Iteration 24\n",
      "Iteration 25\n",
      "Iteration 26\n",
      "Iteration 27\n",
      "Iteration 28\n",
      "Iteration 29\n",
      "Iteration 30\n",
      "Iteration 31\n",
      "Iteration 32\n"
     ]
    },
    {
     "data": {
      "text/plain": [
       "(array([[ -2.31942323,  13.82501282,   1.        ],\n",
       "        [ -0.34235379,  -3.06290011,   1.        ],\n",
       "        [  4.16140405,  13.96760811,   1.        ],\n",
       "        [  1.247248  ,   7.75699727,   1.        ],\n",
       "        [  8.06808941,  -5.68838   ,   1.        ],\n",
       "        [-11.23025921,  -3.32748327,   1.        ],\n",
       "        [  9.98159318,  11.35537273,   1.        ],\n",
       "        [ -5.43297921,   2.60306536,   1.        ],\n",
       "        [  2.46830679, -10.03895579,   1.        ],\n",
       "        [  8.31445588,   3.39069925,   1.        ],\n",
       "        [ 15.64158333,   2.32257056,   1.        ],\n",
       "        [ 14.04079104,   6.71370896,   1.        ],\n",
       "        [ -6.07916633,  -9.13296122,   1.        ],\n",
       "        [ -8.46433836,  10.26768767,   1.        ],\n",
       "        [-11.9882375 ,   3.65411837,   1.        ]]),\n",
       " array([[0., 0., 0., ..., 0., 0., 0.],\n",
       "        [0., 0., 0., ..., 0., 0., 0.],\n",
       "        [0., 0., 0., ..., 0., 0., 0.],\n",
       "        ...,\n",
       "        [0., 0., 0., ..., 0., 0., 0.],\n",
       "        [0., 0., 1., ..., 0., 0., 0.],\n",
       "        [0., 0., 0., ..., 0., 0., 0.]]))"
      ]
     },
     "execution_count": 17,
     "metadata": {},
     "output_type": "execute_result"
    }
   ],
   "source": [
    "k_means(train_data_classes[0,:,:])"
   ]
  },
  {
   "cell_type": "code",
   "execution_count": 46,
   "metadata": {},
   "outputs": [],
   "source": [
    "exit()"
   ]
  },
  {
   "cell_type": "code",
   "execution_count": null,
   "metadata": {},
   "outputs": [],
   "source": []
  }
 ],
 "metadata": {
  "interpreter": {
   "hash": "ef9b7432826c696ce20e03f18746ba792f5b12abe17d61ecd8dfe6645e9f1429"
  },
  "kernelspec": {
   "display_name": "Python 3.8.12 ('cs5691_prml')",
   "language": "python",
   "name": "python3"
  },
  "language_info": {
   "codemirror_mode": {
    "name": "ipython",
    "version": 3
   },
   "file_extension": ".py",
   "mimetype": "text/x-python",
   "name": "python",
   "nbconvert_exporter": "python",
   "pygments_lexer": "ipython3",
   "version": "3.8.12"
  },
  "orig_nbformat": 4
 },
 "nbformat": 4,
 "nbformat_minor": 2
}
