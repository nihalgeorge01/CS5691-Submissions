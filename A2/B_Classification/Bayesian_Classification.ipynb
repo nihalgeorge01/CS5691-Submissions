{
 "cells": [
  {
   "cell_type": "markdown",
   "metadata": {},
   "source": [
    "## Bayesian Classification\n",
    "### By Team 29 - Abhigyan Chattopadhyay (EE19B146), Nihal John George (EE19B131)"
   ]
  },
  {
   "cell_type": "code",
   "execution_count": 6,
   "metadata": {},
   "outputs": [],
   "source": [
    "# Imports\n",
    "\n",
    "import pandas as pd\n",
    "import os"
   ]
  },
  {
   "cell_type": "code",
   "execution_count": 7,
   "metadata": {},
   "outputs": [],
   "source": [
    "# Path constants\n",
    "data_path = './Data/'\n",
    "team_num = '29'\n",
    "pr_type = 'linsep'\n",
    "\n",
    "total_path = data_path+team_num+'-'+pr_type+'/'"
   ]
  },
  {
   "cell_type": "code",
   "execution_count": 9,
   "metadata": {},
   "outputs": [
    {
     "data": {
      "text/html": [
       "<div>\n",
       "<style scoped>\n",
       "    .dataframe tbody tr th:only-of-type {\n",
       "        vertical-align: middle;\n",
       "    }\n",
       "\n",
       "    .dataframe tbody tr th {\n",
       "        vertical-align: top;\n",
       "    }\n",
       "\n",
       "    .dataframe thead th {\n",
       "        text-align: right;\n",
       "    }\n",
       "</style>\n",
       "<table border=\"1\" class=\"dataframe\">\n",
       "  <thead>\n",
       "    <tr style=\"text-align: right;\">\n",
       "      <th></th>\n",
       "      <th>x1</th>\n",
       "      <th>x2</th>\n",
       "      <th>y</th>\n",
       "    </tr>\n",
       "  </thead>\n",
       "  <tbody>\n",
       "    <tr>\n",
       "      <th>0</th>\n",
       "      <td>2.7092</td>\n",
       "      <td>3.1619</td>\n",
       "      <td>1</td>\n",
       "    </tr>\n",
       "    <tr>\n",
       "      <th>1</th>\n",
       "      <td>1.7126</td>\n",
       "      <td>5.1063</td>\n",
       "      <td>1</td>\n",
       "    </tr>\n",
       "    <tr>\n",
       "      <th>2</th>\n",
       "      <td>3.4792</td>\n",
       "      <td>5.0759</td>\n",
       "      <td>1</td>\n",
       "    </tr>\n",
       "    <tr>\n",
       "      <th>3</th>\n",
       "      <td>1.5750</td>\n",
       "      <td>1.7354</td>\n",
       "      <td>1</td>\n",
       "    </tr>\n",
       "    <tr>\n",
       "      <th>4</th>\n",
       "      <td>2.6529</td>\n",
       "      <td>4.9581</td>\n",
       "      <td>1</td>\n",
       "    </tr>\n",
       "  </tbody>\n",
       "</table>\n",
       "</div>"
      ],
      "text/plain": [
       "       x1      x2  y\n",
       "0  2.7092  3.1619  1\n",
       "1  1.7126  5.1063  1\n",
       "2  3.4792  5.0759  1\n",
       "3  1.5750  1.7354  1\n",
       "4  2.6529  4.9581  1"
      ]
     },
     "execution_count": 9,
     "metadata": {},
     "output_type": "execute_result"
    }
   ],
   "source": [
    "# Load data\n",
    "train = pd.read_csv(total_path+'trian.txt', header=None, names=['x1', 'x2', 'y'])\n",
    "dev = pd.read_csv(total_path+'dev.txt', header=None, names=['x1', 'x2', 'y'])\n",
    "\n",
    "train.head()"
   ]
  },
  {
   "cell_type": "code",
   "execution_count": 11,
   "metadata": {},
   "outputs": [
    {
     "data": {
      "text/html": [
       "<div>\n",
       "<style scoped>\n",
       "    .dataframe tbody tr th:only-of-type {\n",
       "        vertical-align: middle;\n",
       "    }\n",
       "\n",
       "    .dataframe tbody tr th {\n",
       "        vertical-align: top;\n",
       "    }\n",
       "\n",
       "    .dataframe thead th {\n",
       "        text-align: right;\n",
       "    }\n",
       "</style>\n",
       "<table border=\"1\" class=\"dataframe\">\n",
       "  <thead>\n",
       "    <tr style=\"text-align: right;\">\n",
       "      <th></th>\n",
       "      <th>x1</th>\n",
       "      <th>x2</th>\n",
       "      <th>y</th>\n",
       "    </tr>\n",
       "  </thead>\n",
       "  <tbody>\n",
       "    <tr>\n",
       "      <th>count</th>\n",
       "      <td>1050.000000</td>\n",
       "      <td>1050.000000</td>\n",
       "      <td>1050.000000</td>\n",
       "    </tr>\n",
       "    <tr>\n",
       "      <th>mean</th>\n",
       "      <td>5.441763</td>\n",
       "      <td>8.334312</td>\n",
       "      <td>2.000000</td>\n",
       "    </tr>\n",
       "    <tr>\n",
       "      <th>std</th>\n",
       "      <td>6.747959</td>\n",
       "      <td>4.472929</td>\n",
       "      <td>0.816886</td>\n",
       "    </tr>\n",
       "    <tr>\n",
       "      <th>min</th>\n",
       "      <td>-5.043000</td>\n",
       "      <td>-3.270100</td>\n",
       "      <td>1.000000</td>\n",
       "    </tr>\n",
       "    <tr>\n",
       "      <th>25%</th>\n",
       "      <td>0.290765</td>\n",
       "      <td>3.984775</td>\n",
       "      <td>1.000000</td>\n",
       "    </tr>\n",
       "    <tr>\n",
       "      <th>50%</th>\n",
       "      <td>2.113650</td>\n",
       "      <td>8.920550</td>\n",
       "      <td>2.000000</td>\n",
       "    </tr>\n",
       "    <tr>\n",
       "      <th>75%</th>\n",
       "      <td>13.587250</td>\n",
       "      <td>12.211000</td>\n",
       "      <td>3.000000</td>\n",
       "    </tr>\n",
       "    <tr>\n",
       "      <th>max</th>\n",
       "      <td>18.492000</td>\n",
       "      <td>17.246000</td>\n",
       "      <td>3.000000</td>\n",
       "    </tr>\n",
       "  </tbody>\n",
       "</table>\n",
       "</div>"
      ],
      "text/plain": [
       "                x1           x2            y\n",
       "count  1050.000000  1050.000000  1050.000000\n",
       "mean      5.441763     8.334312     2.000000\n",
       "std       6.747959     4.472929     0.816886\n",
       "min      -5.043000    -3.270100     1.000000\n",
       "25%       0.290765     3.984775     1.000000\n",
       "50%       2.113650     8.920550     2.000000\n",
       "75%      13.587250    12.211000     3.000000\n",
       "max      18.492000    17.246000     3.000000"
      ]
     },
     "execution_count": 11,
     "metadata": {},
     "output_type": "execute_result"
    }
   ],
   "source": [
    "# Exploring some stats of train data\n",
    "train.describe()"
   ]
  },
  {
   "cell_type": "code",
   "execution_count": null,
   "metadata": {},
   "outputs": [],
   "source": [
    "# Bayes with Cov diff for all classes\n",
    "# \n",
    "# For each class i, find the 2x2 cov matrix of x1 and x2\n",
    "# cov_i = [[Ex1x1, Ex1x2], \n",
    "#        [Ex2x1, Ex2x2]]\n",
    "# Find expectations from dataset by doing average of those \n",
    "# products over examples with y = i. This is MLE of cov given unimodal Gaussian assumption\n",
    "# Now need to find mean meu vector for each class. \n",
    "# Find average of x1s and x2s for each class, this is MLE of mean\n",
    "# given unimodal Gaussian assumption\n",
    "\n",
    "# Now with mean and cov for each class, we can form classifier.\n",
    "# Equations of discriminant functions for different cases given in Duda (2001) Ch 2, pg 19\n",
    "\n",
    "# Case 1: Bayes with same cov for all classes - Find cov matrix without considering class\n",
    "# Case 2: Bayes with diff cov - Discussed above\n",
    "# Case 3: Naive Bayes with cov = sigma^2 I - Find variance of all feature values, across features.\n",
    "# Case 4: Naive Bayes with cov same for all classes - cov matrix is diagonal (since naive), but diagonal values could be different. So find variance of x1, find variance of x2\n",
    "# Case 5: Naive Bayes with cov diff for all classes - cov matrix is diagonal (since naive), but diagonal values could be diff, and the matrix is diff for each class\n",
    "\n",
    "# Expected results\n",
    "# Case 1: Hyperplane\n",
    "# Case 2: Hyperquadratic\n",
    "# Case 3: Hyperplane\n",
    "# Case 4: Hyperplane\n",
    "# Case 5: Hyperquadratic"
   ]
  },
  {
   "cell_type": "code",
   "execution_count": null,
   "metadata": {},
   "outputs": [],
   "source": [
    "# Finding mean of each class\n"
   ]
  },
  {
   "cell_type": "code",
   "execution_count": null,
   "metadata": {},
   "outputs": [],
   "source": [
    "# Finding class-agnostic, feature-agnostic covariance (Case 3)\n",
    " "
   ]
  },
  {
   "cell_type": "code",
   "execution_count": null,
   "metadata": {},
   "outputs": [],
   "source": [
    "# Finding class-agnostic, feature-specific covariance (Case 1, 4)"
   ]
  },
  {
   "cell_type": "code",
   "execution_count": null,
   "metadata": {},
   "outputs": [],
   "source": [
    "# Finding class-specific, feature-specific covariance (Case 2, 5)"
   ]
  },
  {
   "cell_type": "code",
   "execution_count": null,
   "metadata": {},
   "outputs": [],
   "source": [
    "# Set cov matrices for the 5 cases"
   ]
  },
  {
   "cell_type": "code",
   "execution_count": null,
   "metadata": {},
   "outputs": [],
   "source": [
    "# Plot PDFs of each class for 5 cases, constant density curves and eigenvectors (plots #1,#3 in QP)"
   ]
  },
  {
   "cell_type": "code",
   "execution_count": null,
   "metadata": {},
   "outputs": [],
   "source": [
    "# Apply Bayes rule, get classifier. Takes an input vector, returns predicted class"
   ]
  },
  {
   "cell_type": "code",
   "execution_count": null,
   "metadata": {},
   "outputs": [],
   "source": [
    "# Discriminant functions for 5 cases"
   ]
  },
  {
   "cell_type": "code",
   "execution_count": null,
   "metadata": {},
   "outputs": [],
   "source": [
    "# Plot discriminant functions for 5 cases (plot #2 in QP)"
   ]
  },
  {
   "cell_type": "code",
   "execution_count": null,
   "metadata": {},
   "outputs": [],
   "source": [
    "# Test on Dev Set"
   ]
  },
  {
   "cell_type": "code",
   "execution_count": null,
   "metadata": {},
   "outputs": [],
   "source": [
    "# Dev set confusion matrix for 5 cases (plot #4 in QP)"
   ]
  },
  {
   "cell_type": "code",
   "execution_count": null,
   "metadata": {},
   "outputs": [],
   "source": [
    "# ROC, DET curves for 5 cases in 1 plot (plot #5 in QP)"
   ]
  }
 ],
 "metadata": {
  "interpreter": {
   "hash": "ccfce93756deb9f9d214740bc9590be843df3d40fd2829f738c51bd7f9a6b27b"
  },
  "kernelspec": {
   "display_name": "Python 3.8.12 ('torch_gpu')",
   "language": "python",
   "name": "python3"
  },
  "language_info": {
   "codemirror_mode": {
    "name": "ipython",
    "version": 3
   },
   "file_extension": ".py",
   "mimetype": "text/x-python",
   "name": "python",
   "nbconvert_exporter": "python",
   "pygments_lexer": "ipython3",
   "version": "3.8.12"
  },
  "orig_nbformat": 4
 },
 "nbformat": 4,
 "nbformat_minor": 2
}
