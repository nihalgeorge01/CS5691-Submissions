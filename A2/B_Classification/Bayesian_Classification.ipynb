{
 "cells": [
  {
   "cell_type": "markdown",
   "metadata": {},
   "source": [
    "## Bayesian Classification\n",
    "### By Team 29 - Abhigyan Chattopadhyay (EE19B146), Nihal John George (EE19B131)"
   ]
  },
  {
   "cell_type": "code",
   "execution_count": 193,
   "metadata": {},
   "outputs": [],
   "source": [
    "# Imports\n",
    "\n",
    "import pandas as pd\n",
    "import numpy as np\n",
    "import matplotlib.pyplot as plt"
   ]
  },
  {
   "cell_type": "code",
   "execution_count": 194,
   "metadata": {},
   "outputs": [],
   "source": [
    "# Path constants\n",
    "data_path = './Data/'\n",
    "team_num = '29'\n",
    "pr_type = 'linsep'\n",
    "\n",
    "total_path = data_path+team_num+'-'+pr_type+'/'"
   ]
  },
  {
   "cell_type": "code",
   "execution_count": 195,
   "metadata": {},
   "outputs": [
    {
     "data": {
      "text/html": [
       "<div>\n",
       "<style scoped>\n",
       "    .dataframe tbody tr th:only-of-type {\n",
       "        vertical-align: middle;\n",
       "    }\n",
       "\n",
       "    .dataframe tbody tr th {\n",
       "        vertical-align: top;\n",
       "    }\n",
       "\n",
       "    .dataframe thead th {\n",
       "        text-align: right;\n",
       "    }\n",
       "</style>\n",
       "<table border=\"1\" class=\"dataframe\">\n",
       "  <thead>\n",
       "    <tr style=\"text-align: right;\">\n",
       "      <th></th>\n",
       "      <th>x1</th>\n",
       "      <th>x2</th>\n",
       "      <th>y</th>\n",
       "    </tr>\n",
       "  </thead>\n",
       "  <tbody>\n",
       "    <tr>\n",
       "      <th>0</th>\n",
       "      <td>2.7092</td>\n",
       "      <td>3.1619</td>\n",
       "      <td>1</td>\n",
       "    </tr>\n",
       "    <tr>\n",
       "      <th>1</th>\n",
       "      <td>1.7126</td>\n",
       "      <td>5.1063</td>\n",
       "      <td>1</td>\n",
       "    </tr>\n",
       "    <tr>\n",
       "      <th>2</th>\n",
       "      <td>3.4792</td>\n",
       "      <td>5.0759</td>\n",
       "      <td>1</td>\n",
       "    </tr>\n",
       "    <tr>\n",
       "      <th>3</th>\n",
       "      <td>1.5750</td>\n",
       "      <td>1.7354</td>\n",
       "      <td>1</td>\n",
       "    </tr>\n",
       "    <tr>\n",
       "      <th>4</th>\n",
       "      <td>2.6529</td>\n",
       "      <td>4.9581</td>\n",
       "      <td>1</td>\n",
       "    </tr>\n",
       "  </tbody>\n",
       "</table>\n",
       "</div>"
      ],
      "text/plain": [
       "       x1      x2  y\n",
       "0  2.7092  3.1619  1\n",
       "1  1.7126  5.1063  1\n",
       "2  3.4792  5.0759  1\n",
       "3  1.5750  1.7354  1\n",
       "4  2.6529  4.9581  1"
      ]
     },
     "execution_count": 195,
     "metadata": {},
     "output_type": "execute_result"
    }
   ],
   "source": [
    "# Load data\n",
    "train = pd.read_csv(total_path+'trian.txt', header=None, names=['x1', 'x2', 'y'])\n",
    "dev = pd.read_csv(total_path+'dev.txt', header=None, names=['x1', 'x2', 'y'])\n",
    "\n",
    "train.head()"
   ]
  },
  {
   "cell_type": "code",
   "execution_count": 196,
   "metadata": {},
   "outputs": [],
   "source": [
    "X_train = train.iloc[:,:2].to_numpy()\n",
    "y_train = train.iloc[:,2].to_numpy()\n",
    "\n",
    "X_dev = dev.iloc[:,:2].to_numpy()\n",
    "y_dev = dev.iloc[:,2].to_numpy()"
   ]
  },
  {
   "cell_type": "code",
   "execution_count": 197,
   "metadata": {},
   "outputs": [],
   "source": [
    "# Bayes with Cov diff for all classes\n",
    "# \n",
    "# For each class i, find the 2x2 cov matrix of x1 and x2\n",
    "# cov_i = [[Ex1x1, Ex1x2], \n",
    "#        [Ex2x1, Ex2x2]]\n",
    "# Find expectations from dataset by doing average of those \n",
    "# products over examples with y = i. This is MLE of cov given unimodal Gaussian assumption\n",
    "# Now need to find mean meu vector for each class. \n",
    "# Find average of x1s and x2s for each class, this is MLE of mean\n",
    "# given unimodal Gaussian assumption\n",
    "\n",
    "# Now with mean and cov for each class, we can form classifier.\n",
    "# Equations of discriminant functions for different cases given in Duda (2001) Ch 2, pg 19\n",
    "\n",
    "# Case 1: Bayes with same cov for all classes - Find cov matrix without considering class\n",
    "# Case 2: Bayes with diff cov - Discussed above\n",
    "# Case 3: Naive Bayes with cov = sigma^2 I - Find variance of all feature values, across features.\n",
    "# Case 4: Naive Bayes with cov same for all classes - cov matrix is diagonal (since naive), but diagonal values could be different. So find variance of x1, find variance of x2\n",
    "# Case 5: Naive Bayes with cov diff for all classes - cov matrix is diagonal (since naive), but diagonal values could be diff, and the matrix is diff for each class\n",
    "\n",
    "# Expected results\n",
    "# Case 1: Hyperplane\n",
    "# Case 2: Hyperquadratic\n",
    "# Case 3: Hyperplane\n",
    "# Case 4: Hyperplane\n",
    "# Case 5: Hyperquadratic"
   ]
  },
  {
   "cell_type": "code",
   "execution_count": 198,
   "metadata": {},
   "outputs": [],
   "source": [
    "# Finding mean and covariance of X in each class manually\n",
    "\n",
    "cl_counts = [0,0,0]\n",
    "x1_sums = [0,0,0]\n",
    "x2_sums = [0,0,0]\n",
    "x1sq_sums = [0,0,0]\n",
    "x2sq_sums = [0,0,0]\n",
    "x1x2_sums = [0,0,0]\n",
    "m = X_train.shape[0]\n",
    "\n",
    "for i in range(m):\n",
    "    cl_ind = y_train[i]-1\n",
    "    x1_here = X_train[i,0]\n",
    "    x2_here = X_train[i,1]\n",
    "\n",
    "    cl_counts[cl_ind] += 1\n",
    "    x1_sums[cl_ind] += x1_here\n",
    "    x2_sums[cl_ind] += x2_here\n",
    "    x1sq_sums[cl_ind] += x1_here ** 2\n",
    "    x2sq_sums[cl_ind] += x2_here ** 2\n",
    "    x1x2_sums[cl_ind] += x1_here * x2_here\n",
    "    \n",
    "x1_means = [x1_sums[i]/cl_counts[i] for i in range(3)]\n",
    "x2_means = [x2_sums[i]/cl_counts[i] for i in range(3)]\n",
    "x1_mean_total = sum(x1_sums)/m\n",
    "x2_mean_total = sum(x2_sums)/m\n",
    "\n",
    "xall_mean = (sum(x1_sums)+sum(x2_sums))/(2*m)\n",
    "\n",
    "x1_vars = [x1sq_sums[i]/cl_counts[i] - (x1_means[i]**2) for i in range(3)]\n",
    "x2_vars = [x2sq_sums[i]/cl_counts[i] - (x2_means[i]**2) for i in range(3)]\n",
    "x1x2_covars = [x1x2_sums[i]/cl_counts[i] - x1_means[i]*x2_means[i] for i in range(3)]\n",
    "\n",
    "xall_var = (sum(x1sq_sums)+sum(x2sq_sums))/(2*m) - (xall_mean**2)\n",
    "x1_var_total = sum(x1sq_sums)/m - (x1_mean_total**2) \n",
    "x2_var_total = sum(x2sq_sums)/m - (x2_mean_total**2) \n",
    "x1x2_covar_total = sum(x1x2_sums)/m - (x1_mean_total*x2_mean_total)"
   ]
  },
  {
   "cell_type": "code",
   "execution_count": 199,
   "metadata": {},
   "outputs": [
    {
     "name": "stdout",
     "output_type": "stream",
     "text": [
      "x1_means: [1.846125076285716, 14.652934285714286, -0.17377046628571421]\n",
      "x2_means: [2.9814346857142846, 8.920129142857142, 13.101372571428575]\n",
      "x1_mean_total: 5.441762965238096\n",
      "x2_mean_total: 8.334312133333334\n",
      "xall_mean: 6.888037549285715\n",
      "cov_1:\n",
      " [[45.49158509 -0.17019155]\n",
      " [-0.17019155 19.98804001]]\n",
      "cov_2_lst:\n",
      " [array([[2.41497733, 0.42006489],\n",
      "       [0.42006489, 2.88927743]]), array([[2.21717864, 0.69434338],\n",
      "       [0.69434338, 2.99535214]]), array([[2.53409464, 0.50153455],\n",
      "       [0.50153455, 2.35814669]])]\n",
      "cov_3:\n",
      " [[34.83152272  0.        ]\n",
      " [ 0.         34.83152272]]\n",
      "cov_4:\n",
      " [[45.49158509  0.        ]\n",
      " [ 0.         19.98804001]]\n",
      "cov_5_lst:\n",
      " [array([[2.41497733, 0.        ],\n",
      "       [0.        , 2.88927743]]), array([[2.21717864, 0.        ],\n",
      "       [0.        , 2.99535214]]), array([[2.53409464, 0.        ],\n",
      "       [0.        , 2.35814669]])]\n"
     ]
    }
   ],
   "source": [
    "# Set mean vec and cov matrices for the 5 cases\n",
    "\n",
    "x_means_vecs = [np.array([x1_means[i], x2_means[i]]) for i in range(3)]\n",
    "\n",
    "cov_1 = np.array([[x1_var_total, x1x2_covar_total], [x1x2_covar_total, x2_var_total]])\n",
    "\n",
    "cov_2_lst = [np.array([[x1_vars[i], x1x2_covars[i]], [x1x2_covars[i], x2_vars[i]]]) for i in range(3)]\n",
    "\n",
    "cov_3 = np.array([[xall_var, 0], [0, xall_var]])\n",
    "\n",
    "cov_4 = np.array([[x1_var_total, 0], [0, x2_var_total]])\n",
    "\n",
    "cov_5_lst = [np.array([[x1_vars[i], 0], [0, x2_vars[i]]]) for i in range(3)]\n",
    "\n",
    "print(\"x1_means:\", x1_means)\n",
    "print(\"x2_means:\", x2_means)\n",
    "print(\"x1_mean_total:\", x1_mean_total)\n",
    "print(\"x2_mean_total:\", x2_mean_total)\n",
    "print(\"xall_mean:\", xall_mean)\n",
    "print(\"cov_1:\\n\", cov_1)\n",
    "print(\"cov_2_lst:\\n\", cov_2_lst)\n",
    "print(\"cov_3:\\n\", cov_3)\n",
    "print(\"cov_4:\\n\", cov_4)\n",
    "print(\"cov_5_lst:\\n\", cov_5_lst)"
   ]
  },
  {
   "cell_type": "code",
   "execution_count": 200,
   "metadata": {},
   "outputs": [],
   "source": [
    "# Define PDF class\n",
    "\n",
    "class PDF:\n",
    "    def __init__(self, mean, cov):\n",
    "        self.mean = mean\n",
    "        self.cov = cov\n",
    "        self.cov_det = cov[0,0]*cov[1,1] - cov[1,0]*cov[0,1]\n",
    "        self.cov_det_sqrt_inv = 1/(self.cov_det ** 0.5)\n",
    "        self.cov_inv = np.array([[cov[1,1], -cov[0,1]], [-cov[1,0], cov[0,0]]])/self.cov_det\n",
    "        self.two_pi_inv = 1/(2*np.pi)\n",
    "        \n",
    "    def p(self, x):\n",
    "        return self.two_pi_inv * self.cov_det_sqrt_inv * np.exp(-0.5*(x-self.mean).T @ self.cov_inv @ (x-self.mean))\n",
    "        "
   ]
  },
  {
   "cell_type": "code",
   "execution_count": 201,
   "metadata": {},
   "outputs": [],
   "source": [
    "# Create PDF instances\n",
    "pdf_1_lst = [PDF(x_means_vecs[i], cov_1) for i in range(3)]\n",
    "\n",
    "pdf_2_lst = [PDF(x_means_vecs[i], cov_2_lst[i]) for i in range(3)]\n",
    "\n",
    "pdf_3_lst = [PDF(x_means_vecs[i], cov_3) for i in range(3)]\n",
    "\n",
    "pdf_4_lst = [PDF(x_means_vecs[i], cov_4) for i in range(3)]\n",
    "\n",
    "pdf_5_lst = [PDF(x_means_vecs[i], cov_5_lst[i]) for i in range(3)]"
   ]
  },
  {
   "cell_type": "code",
   "execution_count": 202,
   "metadata": {},
   "outputs": [],
   "source": [
    "# Plot PDFs of each class for 5 cases, constant density curves and eigenvectors (plots #1,#3 in QP)\n",
    "#TODO\n"
   ]
  },
  {
   "cell_type": "code",
   "execution_count": 203,
   "metadata": {},
   "outputs": [],
   "source": [
    "# Apply Bayes rule, get classifier. Takes an input vector, returns predicted class\n",
    "\n",
    "def predict(x, pdf_lst):\n",
    "    priors = [1/3, 1/3, 1/3]\n",
    "    likes = [pdf_lst[i].p(x) for i in range(3)]\n",
    "    numer = [likes[i]*priors[i] for i in range(3)]\n",
    "    evid = sum(numer)\n",
    "    posts = np.array([numer[i]/evid for i in range(3)])\n",
    "\n",
    "    class_pred = np.argmax(posts) + 1\n",
    "\n",
    "    return class_pred"
   ]
  },
  {
   "cell_type": "code",
   "execution_count": 204,
   "metadata": {},
   "outputs": [
    {
     "data": {
      "text/plain": [
       "3"
      ]
     },
     "execution_count": 204,
     "metadata": {},
     "output_type": "execute_result"
    }
   ],
   "source": [
    "# Sanity check predict function\n",
    "predict(np.array([0,13]), pdf_5_lst)"
   ]
  },
  {
   "cell_type": "code",
   "execution_count": 205,
   "metadata": {},
   "outputs": [],
   "source": [
    "# Discriminant functions for 5 cases\n",
    "#TODO\n"
   ]
  },
  {
   "cell_type": "code",
   "execution_count": 206,
   "metadata": {},
   "outputs": [],
   "source": [
    "# Plot discriminant functions for 5 cases (plot #2 in QP)\n",
    "#TODO"
   ]
  },
  {
   "cell_type": "code",
   "execution_count": 207,
   "metadata": {},
   "outputs": [
    {
     "name": "stdout",
     "output_type": "stream",
     "text": [
      "Train Confusion ---\n",
      "[[350.   0.   0.]\n",
      " [  0. 350.   0.]\n",
      " [  0.   0. 350.]]\n",
      "[[350.   0.   0.]\n",
      " [  0. 350.   0.]\n",
      " [  0.   0. 350.]]\n",
      "[[350.   0.   0.]\n",
      " [  0. 350.   0.]\n",
      " [  0.   0. 350.]]\n",
      "[[350.   0.   0.]\n",
      " [  0. 350.   0.]\n",
      " [  0.   0. 350.]]\n",
      "[[350.   0.   0.]\n",
      " [  0. 350.   0.]\n",
      " [  0.   0. 350.]]\n",
      "\n",
      "Dev Confusion ---\n",
      "[[100.   0.   0.]\n",
      " [  0. 100.   0.]\n",
      " [  0.   0. 100.]]\n",
      "[[100.   0.   0.]\n",
      " [  0. 100.   0.]\n",
      " [  0.   0. 100.]]\n",
      "[[100.   0.   0.]\n",
      " [  0. 100.   0.]\n",
      " [  0.   0. 100.]]\n",
      "[[100.   0.   0.]\n",
      " [  0. 100.   0.]\n",
      " [  0.   0. 100.]]\n",
      "[[100.   0.   0.]\n",
      " [  0. 100.   0.]\n",
      " [  0.   0. 100.]]\n"
     ]
    }
   ],
   "source": [
    "# Predict on Train and Dev Set\n",
    "\n",
    "cases = [pdf_1_lst, pdf_2_lst, pdf_3_lst, pdf_4_lst, pdf_5_lst]\n",
    "m_dev = X_dev.shape[0]\n",
    "conf_mat_lst = []\n",
    "conf_mat_train_lst = []\n",
    "for pdf_lst_here in cases:\n",
    "    conf_mat = np.zeros([3,3])\n",
    "    \n",
    "    for i in range(m_dev):\n",
    "        class_pred = predict(X_dev[i], pdf_lst_here)\n",
    "        class_true = y_dev[i]\n",
    "        conf_mat[class_true-1, class_pred-1] += 1\n",
    "\n",
    "    conf_mat_lst.append(conf_mat.copy())\n",
    "\n",
    "    conf_mat_train = np.zeros([3,3])\n",
    "    for i in range(m):\n",
    "        class_pred = predict(X_train[i], pdf_lst_here)\n",
    "        class_true = y_train[i]\n",
    "        conf_mat_train[class_true-1, class_pred-1] += 1\n",
    "    conf_mat_train_lst.append(conf_mat_train.copy())\n",
    "\n",
    "print(\"Train Confusion ---\")\n",
    "for i in range(5):\n",
    "    print(conf_mat_train_lst[i])\n",
    "\n",
    "print(\"\\nDev Confusion ---\")\n",
    "for i in range(5):\n",
    "    print(conf_mat_lst[i])"
   ]
  },
  {
   "cell_type": "code",
   "execution_count": 208,
   "metadata": {},
   "outputs": [
    {
     "data": {
      "image/png": "[encoded data removed]",
      "text/plain": [
       "<Figure size 250x250 with 2 Axes>"
      ]
     },
     "metadata": {},
     "output_type": "display_data"
    },
    {
     "data": {
      "image/png": "[encoded data removed]",
      "text/plain": [
       "<Figure size 250x250 with 2 Axes>"
      ]
     },
     "metadata": {},
     "output_type": "display_data"
    },
    {
     "data": {
      "image/png": "[encoded data removed]",
      "text/plain": [
       "<Figure size 250x250 with 2 Axes>"
      ]
     },
     "metadata": {},
     "output_type": "display_data"
    },
    {
     "data": {
      "image/png": "[encoded data removed]",
      "text/plain": [
       "<Figure size 250x250 with 2 Axes>"
      ]
     },
     "metadata": {},
     "output_type": "display_data"
    },
    {
     "data": {
      "image/png": "[encoded data removed]",
      "text/plain": [
       "<Figure size 250x250 with 2 Axes>"
      ]
     },
     "metadata": {},
     "output_type": "display_data"
    }
   ],
   "source": [
    "# Dev set confusion matrix for 5 cases (plot #4 in QP)\n",
    "#TODO\n",
    "\n",
    "for case in range(5):\n",
    "    conf_mat = conf_mat_lst[case]\n",
    "    fig = plt.figure(figsize=(2.5,2.5))\n",
    "    plt.clf()\n",
    "    ax = fig.add_subplot(111)\n",
    "    ax.set_aspect(1)\n",
    "    res = ax.imshow(conf_mat, cmap=plt.cm.Blues, alpha=0.3, \n",
    "                    interpolation='nearest')\n",
    "\n",
    "    width, height = conf_mat.shape\n",
    "\n",
    "    for x in range(width):\n",
    "        for y in range(height):\n",
    "            ax.annotate(str(int(conf_mat[x][y])), xy=(y, x), ha='center', va='center', size='xx-small')\n",
    "\n",
    "    cb = fig.colorbar(res)\n",
    "    cb.ax.tick_params(labelsize=6)\n",
    "    plt.xticks(range(width), range(1,width+1), fontsize=6)\n",
    "    plt.yticks(range(height), range(1,width+1), fontsize=6)\n",
    "    plt.xlabel('Predicted', fontsize=6)\n",
    "    plt.ylabel('True', fontsize=6)\n",
    "    plt.title(\"Confusion Matrix (Case \" + str(case+1) + \")\", fontsize=6)\n",
    "    plt.show()\n",
    "    # plt.savefig('confusion_matrix.png', format='png')"
   ]
  },
  {
   "cell_type": "code",
   "execution_count": 209,
   "metadata": {},
   "outputs": [],
   "source": [
    "# ROC, DET curves for 5 cases in 1 plot (plot #5 in QP)\n",
    "#TODO"
   ]
  }
 ],
 "metadata": {
  "interpreter": {
   "hash": "ccfce93756deb9f9d214740bc9590be843df3d40fd2829f738c51bd7f9a6b27b"
  },
  "kernelspec": {
   "display_name": "Python 3.8.12 ('torch_gpu')",
   "language": "python",
   "name": "python3"
  },
  "language_info": {
   "codemirror_mode": {
    "name": "ipython",
    "version": 3
   },
   "file_extension": ".py",
   "mimetype": "text/x-python",
   "name": "python",
   "nbconvert_exporter": "python",
   "pygments_lexer": "ipython3",
   "version": "3.8.12"
  },
  "orig_nbformat": 4
 },
 "nbformat": 4,
 "nbformat_minor": 2
}
