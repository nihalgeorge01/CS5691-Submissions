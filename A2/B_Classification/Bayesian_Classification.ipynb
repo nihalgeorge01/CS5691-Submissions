{
 "cells": [
  {
   "cell_type": "markdown",
   "metadata": {},
   "source": [
    "## Bayesian Classification\n",
    "### By Team 29 - Abhigyan Chattopadhyay (EE19B146), Nihal John George (EE19B131)"
   ]
  }
 ],
 "metadata": {
  "interpreter": {
   "hash": "ccfce93756deb9f9d214740bc9590be843df3d40fd2829f738c51bd7f9a6b27b"
  },
  "kernelspec": {
   "display_name": "Python 3.8.12 ('torch_gpu')",
   "language": "python",
   "name": "python3"
  },
  "language_info": {
   "name": "python",
   "version": "3.8.12"
  },
  "orig_nbformat": 4
 },
 "nbformat": 4,
 "nbformat_minor": 2
}
